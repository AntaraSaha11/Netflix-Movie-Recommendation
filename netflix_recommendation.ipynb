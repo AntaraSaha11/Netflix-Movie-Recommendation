{
  "cells": [
    {
      "metadata": {
        "_cell_guid": "ad72abc6-6c95-45b2-aacc-42fbb85b8507",
        "_uuid": "4755c4915c1449fc9d5be0e7d3cba71a3bbcce09",
        "id": "0WqjbbQV-_ZG"
      },
      "cell_type": "markdown",
      "source": [
        "This project aims to build a movie recommendation mechanism within Netflix. The dataset I used here come directly from Netflix. It consists of 4 text data files, each file contains over 20M rows, i.e. over 4K movies and 400K customers. All together **over 17K movies** and **500K+ customers**! "
      ]
    },
    {
      "metadata": {
        "_cell_guid": "e7fd6bbb-9fb6-455f-8f14-6fb25d55c866",
        "_uuid": "8482ce5398e66af9faa64f603c4ebd2b5324ad33",
        "id": "bJP-LDHI-_ZK"
      },
      "cell_type": "markdown",
      "source": [
        "## Table of Content:\n",
        "\n",
        "* Objective\n",
        "\n",
        "* Data manipulation\n",
        "    -  Data loading\n",
        "    -  Data viewing\n",
        "    -  Data cleaning\n",
        "    -  Data slicing\n",
        "    -  Data mapping\n",
        "    \n",
        "* Recommendation models\n",
        "    -  Recommend with Collaborative Filtering\n",
        "    -  Recommend with Pearsons' R correlation"
      ]
    },
    {
      "metadata": {
        "_cell_guid": "68066366-4219-4779-a159-d503bdedbfdd",
        "_uuid": "689e0500abe3bd15f72c1cb3010c538c90631b50",
        "id": "EJIpymsr-_ZL"
      },
      "cell_type": "markdown",
      "source": [
        "# Objective\n",
        "<br>\n",
        "Learn from data and recommend best TV shows to users, based on self & others behaviour\n",
        "<br>"
      ]
    },
    {
      "metadata": {
        "_cell_guid": "fbfaefbf-fda2-46ce-9e22-59b2c8d17fa2",
        "_uuid": "8656955e16b88d57f19a3789c90069059ba884b9",
        "id": "IZQuJ2Zj-_ZL"
      },
      "cell_type": "markdown",
      "source": [
        "# Data manipulation"
      ]
    },
    {
      "metadata": {
        "_cell_guid": "5a824059-8c9b-4418-9a24-f833943d49cb",
        "_uuid": "2101d86c2cf3f7a61475ea82aaa3c5dd068cf187",
        "id": "yFeJj8vW-_ZM"
      },
      "cell_type": "markdown",
      "source": [
        "## Data loading"
      ]
    },
    {
      "metadata": {
        "_cell_guid": "4092e050-1938-4283-9b18-396c60e94ee1",
        "_uuid": "d0978db1b40af98cf11b5b185ef264a9891d183d",
        "id": "drhlmkti-_ZM"
      },
      "cell_type": "markdown",
      "source": [
        "Each data file (there are 4 of them) contains below columns:\n",
        "\n",
        "* Movie ID (as first line of each new movie record / file)\n",
        "* Customer ID\n",
        "* Rating (1 to 5)\n",
        "* Date they gave the ratings\n",
        "\n",
        "There is another file contains the mapping of Movie ID to the movie background like name, year of release, etc"
      ]
    },
    {
      "metadata": {
        "_cell_guid": "637b34e2-b123-4b2d-8e70-97631b0321f9",
        "_uuid": "1f60257741c703435318df7e05e2a46c6e11af63",
        "id": "4WW4H9WE-_ZM"
      },
      "cell_type": "markdown",
      "source": [
        "Let's import the library we needed before we get started:"
      ]
    },
    {
      "cell_type": "code",
      "source": [
        "pip install scikit-surprise"
      ],
      "metadata": {
        "colab": {
          "base_uri": "https://localhost:8080/"
        },
        "id": "v1ZSTRRb_lA-",
        "outputId": "d538d6b6-ac55-4971-c5a8-eb404d9c70ae"
      },
      "execution_count": null,
      "outputs": [
        {
          "output_type": "stream",
          "name": "stdout",
          "text": [
            "Collecting scikit-surprise\n",
            "  Downloading scikit-surprise-1.1.1.tar.gz (11.8 MB)\n",
            "\u001b[K     |████████████████████████████████| 11.8 MB 4.5 MB/s \n",
            "\u001b[?25hRequirement already satisfied: joblib>=0.11 in /usr/local/lib/python3.7/dist-packages (from scikit-surprise) (1.1.0)\n",
            "Requirement already satisfied: numpy>=1.11.2 in /usr/local/lib/python3.7/dist-packages (from scikit-surprise) (1.21.5)\n",
            "Requirement already satisfied: scipy>=1.0.0 in /usr/local/lib/python3.7/dist-packages (from scikit-surprise) (1.4.1)\n",
            "Requirement already satisfied: six>=1.10.0 in /usr/local/lib/python3.7/dist-packages (from scikit-surprise) (1.15.0)\n",
            "Building wheels for collected packages: scikit-surprise\n",
            "  Building wheel for scikit-surprise (setup.py) ... \u001b[?25l\u001b[?25hdone\n",
            "  Created wheel for scikit-surprise: filename=scikit_surprise-1.1.1-cp37-cp37m-linux_x86_64.whl size=1630178 sha256=8be57cd71256c387aac0bdd904838f01ae1fecd4d8b026bfc0488ea3af071ede\n",
            "  Stored in directory: /root/.cache/pip/wheels/76/44/74/b498c42be47b2406bd27994e16c5188e337c657025ab400c1c\n",
            "Successfully built scikit-surprise\n",
            "Installing collected packages: scikit-surprise\n",
            "Successfully installed scikit-surprise-1.1.1\n"
          ]
        }
      ]
    },
    {
      "metadata": {
        "collapsed": true,
        "_cell_guid": "046298b9-7ef7-4e68-aef2-a1fe316be5a0",
        "_uuid": "3bc39967a41f9ec3989f971c49916b822b0806b7",
        "trusted": true,
        "id": "CgbSLzlK-_ZN"
      },
      "cell_type": "code",
      "source": [
        "import pandas as pd\n",
        "import numpy as np\n",
        "import math\n",
        "import re\n",
        "from scipy.sparse import csr_matrix\n",
        "import matplotlib.pyplot as plt\n",
        "import seaborn as sns\n",
        "from surprise import Dataset\n",
        "from surprise import Reader\n",
        "from surprise import SVD\n",
        "from surprise.model_selection import cross_validate\n",
        "#from surprise import evaluate\n",
        "sns.set_style(\"ticks\")"
      ],
      "execution_count": 12,
      "outputs": []
    },
    {
      "metadata": {
        "_cell_guid": "be4477f1-7a11-48f4-8147-262a6198609f",
        "_uuid": "665b9a4bceca7bb318e39f1a5825170b18c6cc63",
        "id": "NMgjG8q0-_ZO"
      },
      "cell_type": "markdown",
      "source": [
        "Next let's load first data file and get a feeling of how huge the dataset is:"
      ]
    },
    {
      "metadata": {
        "_cell_guid": "0343ba37-0654-469c-98e5-812ecbaca528",
        "_uuid": "2a5476e11ee4539c129f2da35fccdacf2c296765",
        "trusted": true,
        "id": "txPP3bW1-_ZP",
        "colab": {
          "base_uri": "https://localhost:8080/"
        },
        "outputId": "4e766d6e-b88d-415b-80db-94878200895c"
      },
      "cell_type": "code",
      "source": [
        "# Skip date\n",
        "df1 = pd.read_csv('/content/combined_data_1.txt', header = None, names = ['Cust_Id', 'Rating'], usecols = [0,1])\n",
        "\n",
        "df1['Rating'] = df1['Rating'].astype(float)\n",
        "\n",
        "print('Dataset 1 shape: {}'.format(df1.shape))\n",
        "print('-Dataset examples-')\n",
        "print(df1.iloc[::5000000, :])"
      ],
      "execution_count": 14,
      "outputs": [
        {
          "output_type": "stream",
          "name": "stderr",
          "text": [
            "/usr/local/lib/python3.7/dist-packages/IPython/core/interactiveshell.py:2882: DtypeWarning: Columns (0) have mixed types.Specify dtype option on import or set low_memory=False.\n",
            "  exec(code_obj, self.user_global_ns, self.user_ns)\n"
          ]
        },
        {
          "output_type": "stream",
          "name": "stdout",
          "text": [
            "Dataset 1 shape: (12638142, 2)\n",
            "-Dataset examples-\n",
            "          Cust_Id  Rating\n",
            "0              1:     NaN\n",
            "5000000   1351779     1.0\n",
            "10000000   867044     5.0\n"
          ]
        }
      ]
    },
    {
      "metadata": {
        "_cell_guid": "b5d0ced5-5376-4ff5-86f9-e642a7adbd92",
        "_uuid": "3509640b273342e38c2635d1bb003e0d33de9e8c",
        "id": "JkCDpYyu-_ZP"
      },
      "cell_type": "markdown",
      "source": [
        "Let's try to load the 3 remaining dataset as well:"
      ]
    },
    {
      "metadata": {
        "collapsed": true,
        "_cell_guid": "4a093a49-8a80-4afd-bc13-17b84b284142",
        "_uuid": "a6ca9915b92abd2681ae9a355d446e73b6fbe795",
        "trusted": true,
        "id": "MeP7EyMP-_ZQ"
      },
      "cell_type": "code",
      "source": [
        "#df2 = pd.read_csv('../input/combined_data_2.txt', header = None, names = ['Cust_Id', 'Rating'], usecols = [0,1])\n",
        "#df3 = pd.read_csv('../input/combined_data_3.txt', header = None, names = ['Cust_Id', 'Rating'], usecols = [0,1])\n",
        "#df4 = pd.read_csv('../input/combined_data_4.txt', header = None, names = ['Cust_Id', 'Rating'], usecols = [0,1])\n",
        "\n",
        "\n",
        "#df2['Rating'] = df2['Rating'].astype(float)\n",
        "#df3['Rating'] = df3['Rating'].astype(float)\n",
        "#df4['Rating'] = df4['Rating'].astype(float)\n",
        "\n",
        "#print('Dataset 2 shape: {}'.format(df2.shape))\n",
        "#print('Dataset 3 shape: {}'.format(df3.shape))\n",
        "#print('Dataset 4 shape: {}'.format(df4.shape))\n",
        "\n",
        "#Not using the other 3 sets of data for faster runtime"
      ],
      "execution_count": 15,
      "outputs": []
    },
    {
      "metadata": {
        "_cell_guid": "11ca529c-e11c-4ec1-b9e9-d6c6c45163de",
        "_uuid": "ebf5b154314c1268b4fffdf0449172b71e393c4f",
        "id": "qa8ZDEUL-_ZQ"
      },
      "cell_type": "markdown",
      "source": [
        "Now we combine datasets:"
      ]
    },
    {
      "metadata": {
        "_cell_guid": "ded88177-b586-48f2-bf3d-e1a892aca10e",
        "_uuid": "4ea5a28d0108d2b272f1d30cf749080c4e94e66d",
        "trusted": true,
        "id": "N2GhBOA_-_ZQ",
        "colab": {
          "base_uri": "https://localhost:8080/"
        },
        "outputId": "3cefbcfd-ecee-4b65-d61c-49081601c184"
      },
      "cell_type": "code",
      "source": [
        "# load less data for speed\n",
        "\n",
        "df = df1\n",
        "#df = df1.append(df2)\n",
        "#df = df.append(df3)\n",
        "#df = df.append(df4)\n",
        "\n",
        "df.index = np.arange(0,len(df))\n",
        "print('Full dataset shape: {}'.format(df.shape))\n",
        "print('-Dataset examples-')\n",
        "print(df.iloc[::5000000, :])"
      ],
      "execution_count": 16,
      "outputs": [
        {
          "output_type": "stream",
          "name": "stdout",
          "text": [
            "Full dataset shape: (12638142, 2)\n",
            "-Dataset examples-\n",
            "          Cust_Id  Rating\n",
            "0              1:     NaN\n",
            "5000000   1351779     1.0\n",
            "10000000   867044     5.0\n"
          ]
        }
      ]
    },
    {
      "metadata": {
        "_cell_guid": "78a857d7-1ab1-4d93-b750-9c14b4ba2c9a",
        "_uuid": "5bfa706c8f28f965b669dcfb285c9c32c1478bad",
        "id": "0lyllaxx-_ZR"
      },
      "cell_type": "markdown",
      "source": [
        "## Data viewing"
      ]
    },
    {
      "metadata": {
        "_cell_guid": "48f3f057-706a-4667-b58e-79d70893cbb1",
        "_uuid": "b96e6aebfe14e3be18722b759654b732b8fa4d51",
        "id": "V8YFzDgP-_ZR"
      },
      "cell_type": "markdown",
      "source": [
        "Let's give a first look on how the data spread:"
      ]
    },
    {
      "metadata": {
        "_cell_guid": "0d82d7df-6c77-44f2-a0bc-70ae0324329f",
        "_uuid": "7e8780821d463af5bdcee9ec2662cf27d89745e4",
        "trusted": true,
        "id": "SoM8_pVQ-_ZR",
        "colab": {
          "base_uri": "https://localhost:8080/",
          "height": 596
        },
        "outputId": "379e5ba1-adf2-4e25-93d3-37a2256e476a"
      },
      "cell_type": "code",
      "source": [
        "p = df.groupby('Rating')['Rating'].agg(['count'])\n",
        "\n",
        "# get movie count\n",
        "movie_count = df.isnull().sum()[1]\n",
        "\n",
        "# get customer count\n",
        "cust_count = df['Cust_Id'].nunique() - movie_count\n",
        "\n",
        "# get rating count\n",
        "rating_count = df['Cust_Id'].count() - movie_count\n",
        "\n",
        "ax = p.plot(kind = 'barh', legend = False, figsize = (15,10))\n",
        "plt.title('Total pool: {:,} Movies, {:,} customers, {:,} ratings given'.format(movie_count, cust_count, rating_count), fontsize=20)\n",
        "plt.axis('off')\n",
        "\n",
        "for i in range(1,6):\n",
        "    ax.text(p.iloc[i-1][0]/4, i-1, 'Rating {}: {:.0f}%'.format(i, p.iloc[i-1][0]*100 / p.sum()[0]), color = 'white', weight = 'bold')\n",
        "\n"
      ],
      "execution_count": 17,
      "outputs": [
        {
          "output_type": "display_data",
          "data": {
            "text/plain": [
              "<Figure size 1080x720 with 1 Axes>"
            ],
            "image/png": "[encoded data removed]"
          },
          "metadata": {}
        }
      ]
    },
    {
      "metadata": {
        "_cell_guid": "a7394a2b-8c79-40b8-b967-765d3ae0ad10",
        "_uuid": "dddad55f2699f3f4c02ae64a3e470c314e248643",
        "id": "51tPnMEI-_ZR"
      },
      "cell_type": "markdown",
      "source": [
        "We can see that the rating tends to be relatively positive (>3). This may be due to the fact that unhappy customers tend to just leave instead of making efforts to rate. We can keep this in mind - low rating movies mean they are generally really bad"
      ]
    },
    {
      "metadata": {
        "_cell_guid": "581427e0-87df-46b1-a0af-7eb06932b1a3",
        "_uuid": "bf7bd867b322b3e40c4eb1204d345029b4eb31b6",
        "id": "uYC1f3Vq-_ZR"
      },
      "cell_type": "markdown",
      "source": [
        "## Data cleaning"
      ]
    },
    {
      "metadata": {
        "_cell_guid": "3165defc-df86-49a8-ba51-6abb9fa253b1",
        "_uuid": "f232d44b5a8282bdcfbab54861bbd7990132e2c7",
        "id": "WbUpj0Su-_ZS"
      },
      "cell_type": "markdown",
      "source": [
        "Movie ID is really a mess import! Looping through dataframe to add Movie ID column WILL make the Kernel run out of memory as it is too inefficient. I achieve my task by first creating a numpy array with correct length then add the whole array as column into the main dataframe! Let's see how it is done below:"
      ]
    },
    {
      "metadata": {
        "_cell_guid": "d06e0993-d5ff-4f75-87a7-7659f5427ebf",
        "_uuid": "498476341fad8d25d24090c07ea4b48299f9424a",
        "trusted": true,
        "id": "rUucXSII-_ZS",
        "colab": {
          "base_uri": "https://localhost:8080/"
        },
        "outputId": "b5c7edfb-d015-444f-ac05-35d793a4115c"
      },
      "cell_type": "code",
      "source": [
        "df_nan = pd.DataFrame(pd.isnull(df.Rating))\n",
        "df_nan = df_nan[df_nan['Rating'] == True]\n",
        "df_nan = df_nan.reset_index()\n",
        "\n",
        "movie_np = []\n",
        "movie_id = 1\n",
        "\n",
        "for i,j in zip(df_nan['index'][1:],df_nan['index'][:-1]):\n",
        "    # numpy approach\n",
        "    temp = np.full((1,i-j-1), movie_id)\n",
        "    movie_np = np.append(movie_np, temp)\n",
        "    movie_id += 1\n",
        "\n",
        "# Account for last record and corresponding length\n",
        "# numpy approach\n",
        "last_record = np.full((1,len(df) - df_nan.iloc[-1, 0] - 1),movie_id)\n",
        "movie_np = np.append(movie_np, last_record)\n",
        "\n",
        "print('Movie numpy: {}'.format(movie_np))\n",
        "print('Length: {}'.format(len(movie_np)))"
      ],
      "execution_count": 18,
      "outputs": [
        {
          "output_type": "stream",
          "name": "stdout",
          "text": [
            "Movie numpy: [1.000e+00 1.000e+00 1.000e+00 ... 2.426e+03 2.426e+03 2.426e+03]\n",
            "Length: 12635716\n"
          ]
        }
      ]
    },
    {
      "metadata": {
        "_cell_guid": "e7da935d-a055-4ce6-9509-9c0439fda1de",
        "_uuid": "73c7888f9cf7e1d0f705c6a14019d9371eaa9bf3",
        "trusted": true,
        "id": "j6RU-v7A-_ZS",
        "colab": {
          "base_uri": "https://localhost:8080/"
        },
        "outputId": "88740c15-3856-4341-a68e-18f0ec2d27b5"
      },
      "cell_type": "code",
      "source": [
        "# remove those Movie ID rows\n",
        "df = df[pd.notnull(df['Rating'])]\n",
        "\n",
        "df['Movie_Id'] = movie_np.astype(int)\n",
        "df['Cust_Id'] = df['Cust_Id'].astype(int)\n",
        "print('-Dataset examples-')\n",
        "print(df.iloc[::5000000, :])\n"
      ],
      "execution_count": 19,
      "outputs": [
        {
          "output_type": "stream",
          "name": "stdout",
          "text": [
            "-Dataset examples-\n",
            "          Cust_Id  Rating  Movie_Id\n",
            "1         1488844     3.0         1\n",
            "5000979   1132764     5.0       979\n",
            "10001959  1870059     4.0      1959\n"
          ]
        },
        {
          "output_type": "stream",
          "name": "stderr",
          "text": [
            "/usr/local/lib/python3.7/dist-packages/ipykernel_launcher.py:4: SettingWithCopyWarning: \n",
            "A value is trying to be set on a copy of a slice from a DataFrame.\n",
            "Try using .loc[row_indexer,col_indexer] = value instead\n",
            "\n",
            "See the caveats in the documentation: https://pandas.pydata.org/pandas-docs/stable/user_guide/indexing.html#returning-a-view-versus-a-copy\n",
            "  after removing the cwd from sys.path.\n",
            "/usr/local/lib/python3.7/dist-packages/ipykernel_launcher.py:5: SettingWithCopyWarning: \n",
            "A value is trying to be set on a copy of a slice from a DataFrame.\n",
            "Try using .loc[row_indexer,col_indexer] = value instead\n",
            "\n",
            "See the caveats in the documentation: https://pandas.pydata.org/pandas-docs/stable/user_guide/indexing.html#returning-a-view-versus-a-copy\n",
            "  \"\"\"\n"
          ]
        }
      ]
    },
    {
      "metadata": {
        "_cell_guid": "fd1a2d66-78b0-4191-8ca2-0caef60e91fa",
        "_uuid": "7abf85f047576e1c8fe7742e28bd2a55d33c366c",
        "id": "faoc5V4b-_ZS"
      },
      "cell_type": "markdown",
      "source": [
        "## Data slicing"
      ]
    },
    {
      "metadata": {
        "_cell_guid": "6532819a-7b08-45c4-8b25-952568d7d465",
        "_uuid": "b0107145609698c552ad9e74fd192cbbe93c4bb3",
        "id": "gfFBEmyv-_ZS"
      },
      "cell_type": "markdown",
      "source": [
        "The data set now is super huge. I have tried many different ways but can't get the Kernel running as intended without memory error. Therefore I tried to reduce the data volumn by improving the data quality below:\n",
        "\n",
        "* Remove movie with too less reviews (they are relatively not popular)\n",
        "* Remove customer who give too less reviews (they are relatively less active)\n",
        "\n",
        "Having above benchmark will have significant improvement on efficiency, since those unpopular movies and non-active customers still occupy same volumn as those popular movies and active customers in the view of matrix (NaN still occupy space). This should help improve the statistical signifiance too.\n",
        "\n",
        "Let's see how it is implemented:"
      ]
    },
    {
      "metadata": {
        "_cell_guid": "1db45c46-ee82-4db5-be2c-919258c09d47",
        "_uuid": "b8987bf7e2cfcdc2a69fb767c4033d05240cc5a3",
        "trusted": true,
        "id": "9zDAw35f-_ZT",
        "colab": {
          "base_uri": "https://localhost:8080/"
        },
        "outputId": "ed1db36f-e4d8-4ac3-f495-954db8bea810"
      },
      "cell_type": "code",
      "source": [
        "f = ['count','mean']\n",
        "\n",
        "df_movie_summary = df.groupby('Movie_Id')['Rating'].agg(f)\n",
        "df_movie_summary.index = df_movie_summary.index.map(int)\n",
        "movie_benchmark = round(df_movie_summary['count'].quantile(0.8),0)\n",
        "drop_movie_list = df_movie_summary[df_movie_summary['count'] < movie_benchmark].index\n",
        "\n",
        "print('Movie minimum times of review: {}'.format(movie_benchmark))\n",
        "\n",
        "df_cust_summary = df.groupby('Cust_Id')['Rating'].agg(f)\n",
        "df_cust_summary.index = df_cust_summary.index.map(int)\n",
        "cust_benchmark = round(df_cust_summary['count'].quantile(0.8),0)\n",
        "drop_cust_list = df_cust_summary[df_cust_summary['count'] < cust_benchmark].index\n",
        "\n",
        "print('Customer minimum times of review: {}'.format(cust_benchmark))"
      ],
      "execution_count": 20,
      "outputs": [
        {
          "output_type": "stream",
          "name": "stdout",
          "text": [
            "Movie minimum times of review: 3859.0\n",
            "Customer minimum times of review: 43.0\n"
          ]
        }
      ]
    },
    {
      "metadata": {
        "_cell_guid": "bebeaf19-b3a0-45d9-8a91-deaff2881d71",
        "_uuid": "bc6022b8d87bfb7679984bcbd4b928a54ef19be8",
        "id": "2FBjjzmB-_ZT"
      },
      "cell_type": "markdown",
      "source": [
        "Now let's trim down our data, whats the difference in data size?"
      ]
    },
    {
      "metadata": {
        "_cell_guid": "61f85e6a-3438-456b-b169-f42c0270a752",
        "_uuid": "f09c53f0e7b7fea039437c43e5163a5a59250b70",
        "trusted": true,
        "id": "Ztec0Gwp-_ZT",
        "colab": {
          "base_uri": "https://localhost:8080/"
        },
        "outputId": "21f43f78-4852-4a24-f6dc-fa1afe9e6f79"
      },
      "cell_type": "code",
      "source": [
        "print('Original Shape: {}'.format(df.shape))\n",
        "df = df[~df['Movie_Id'].isin(drop_movie_list)]\n",
        "df = df[~df['Cust_Id'].isin(drop_cust_list)]\n",
        "print('After Trim Shape: {}'.format(df.shape))\n",
        "print('-Data Examples-')\n",
        "print(df.iloc[::5000000, :])"
      ],
      "execution_count": 21,
      "outputs": [
        {
          "output_type": "stream",
          "name": "stdout",
          "text": [
            "Original Shape: (12635716, 3)\n",
            "After Trim Shape: (6965175, 3)\n",
            "-Data Examples-\n",
            "         Cust_Id  Rating  Movie_Id\n",
            "5106      824097     2.0         8\n",
            "9032516  1858770     4.0      1798\n"
          ]
        }
      ]
    },
    {
      "metadata": {
        "_cell_guid": "7f10cc54-4021-4748-9f2f-933d541acee4",
        "_uuid": "ea0da55846a3795aead5d0365d5fcf91b03636ab",
        "id": "Righvt8J-_ZT"
      },
      "cell_type": "markdown",
      "source": [
        "Let's pivot the data set and put it into a giant matrix - we need it for our recommendation system:"
      ]
    },
    {
      "metadata": {
        "_cell_guid": "9e5a21fd-ccff-4fd3-aebe-cd82e5734ba9",
        "_uuid": "528c8ecb8bbd94130e38e68362184087dcc39f83",
        "trusted": true,
        "id": "soUTsk5B-_ZT",
        "colab": {
          "base_uri": "https://localhost:8080/"
        },
        "outputId": "5aac2a62-0116-4271-e3fa-08751b79f460"
      },
      "cell_type": "code",
      "source": [
        "df_p = pd.pivot_table(df,values='Rating',index='Cust_Id',columns='Movie_Id')\n",
        "\n",
        "print(df_p.shape)\n",
        "\n",
        "# Below is another way I used to sparse the dataframe...doesn't seem to work better\n",
        "\n",
        "#Cust_Id_u = list(sorted(df['Cust_Id'].unique()))\n",
        "#Movie_Id_u = list(sorted(df['Movie_Id'].unique()))\n",
        "#data = df['Rating'].tolist()\n",
        "#row = df['Cust_Id'].astype('category', categories=Cust_Id_u).cat.codes\n",
        "#col = df['Movie_Id'].astype('category', categories=Movie_Id_u).cat.codes\n",
        "#sparse_matrix = csr_matrix((data, (row, col)), shape=(len(Cust_Id_u), len(Movie_Id_u)))\n",
        "#df_p = pd.DataFrame(sparse_matrix.todense(), index=Cust_Id_u, columns=Movie_Id_u)\n",
        "#df_p = df_p.replace(0, np.NaN)\n"
      ],
      "execution_count": 22,
      "outputs": [
        {
          "output_type": "stream",
          "name": "stdout",
          "text": [
            "(92209, 486)\n"
          ]
        }
      ]
    },
    {
      "metadata": {
        "_cell_guid": "62ba3943-5369-4df9-b33e-3a5a8b47e9f9",
        "_uuid": "598d5c85304513168b871257f5c3bd810a7a8da4",
        "id": "gc7mR01H-_ZT"
      },
      "cell_type": "markdown",
      "source": [
        "## Data mapping"
      ]
    },
    {
      "metadata": {
        "_cell_guid": "7768ffa2-e387-4b15-8ef1-c808229f4dc0",
        "_uuid": "ab718ba4d0e6b3b95d03c25b577884e88af77b93",
        "id": "jwanW3XM-_ZU"
      },
      "cell_type": "markdown",
      "source": [
        "Now we load the movie mapping file:"
      ]
    },
    {
      "metadata": {
        "_cell_guid": "cec6d42b-adff-49c0-939c-2f92adae15a4",
        "_uuid": "d971e5a1ccd038f9a08e126daeb8995d30f9e014",
        "trusted": true,
        "id": "uKOu9IsQ-_ZU",
        "colab": {
          "base_uri": "https://localhost:8080/"
        },
        "outputId": "e47f9f8b-99c2-4e65-ac9e-d0974981b7c3"
      },
      "cell_type": "code",
      "source": [
        "df_title = pd.read_csv('/content/movie_titles.csv', encoding = \"ISO-8859-1\", header = None, names = ['Movie_Id', 'Year', 'Name'])\n",
        "df_title.set_index('Movie_Id', inplace = True)\n",
        "print (df_title.head(10))"
      ],
      "execution_count": 24,
      "outputs": [
        {
          "output_type": "stream",
          "name": "stdout",
          "text": [
            "            Year                          Name\n",
            "Movie_Id                                      \n",
            "1         2003.0               Dinosaur Planet\n",
            "2         2004.0    Isle of Man TT 2004 Review\n",
            "3         1997.0                     Character\n",
            "4         1994.0  Paula Abdul's Get Up & Dance\n",
            "5         2004.0      The Rise and Fall of ECW\n",
            "6         1997.0                          Sick\n",
            "7         1992.0                         8 Man\n",
            "8         2004.0    What the #$*! Do We Know!?\n",
            "9         1991.0      Class of Nuke 'Em High 2\n",
            "10        2001.0                       Fighter\n"
          ]
        }
      ]
    },
    {
      "metadata": {
        "_cell_guid": "c1b464a7-3c69-4acb-adcb-00d8b3ec9c93",
        "_uuid": "c6becd707a3c14a5c76887789e21e9fbf150e9f8",
        "id": "zdVSdTQx-_ZU"
      },
      "cell_type": "markdown",
      "source": [
        "# Recommendation models"
      ]
    },
    {
      "metadata": {
        "_cell_guid": "a73d197f-1700-40ae-b20c-cab9b8e0c008",
        "_uuid": "bd73e13a984d412908272360c701c15b58f412df",
        "id": "Ioz00Hcu-_ZU"
      },
      "cell_type": "markdown",
      "source": [
        "Well all data required is loaded and cleaned! Next let's get into the recommendation system."
      ]
    },
    {
      "metadata": {
        "_cell_guid": "fa6ad634-5c47-41e1-adeb-47fe2bd8f1b9",
        "_uuid": "523277beb220f90b2f7fb58dab680e22db2aa325",
        "id": "-7h-OS2g-_ZU"
      },
      "cell_type": "markdown",
      "source": [
        "## Recommend with Collaborative Filtering"
      ]
    },
    {
      "metadata": {
        "_cell_guid": "1ca487dc-253b-4a5e-ab00-516ee846306a",
        "_uuid": "5fb7d8cd461f7ab0b279acdfc135bfb3c302c3e8",
        "id": "kb3HbE1V-_ZU"
      },
      "cell_type": "markdown",
      "source": [
        "Evalute performance of [collaborative filtering](https://en.wikipedia.org/wiki/Collaborative_filtering), with just first 100K rows for faster process:"
      ]
    },
    {
      "metadata": {
        "_cell_guid": "fa414c7c-f908-40fa-bc99-9b221748c923",
        "scrolled": true,
        "_uuid": "a59aaac88ca121b93fcd8807e462dc7f0b609254",
        "trusted": true,
        "id": "2AkgWBza-_ZU",
        "colab": {
          "base_uri": "https://localhost:8080/"
        },
        "outputId": "634bbfa3-e04a-47d6-bf0b-45632e512ec5"
      },
      "cell_type": "code",
      "source": [
        "reader = Reader()\n",
        "\n",
        "# get just top 100K rows for faster run time\n",
        "data = Dataset.load_from_df(df[['Cust_Id', 'Movie_Id', 'Rating']][:100000], reader)\n",
        "#data.split(n_folds=3)\n",
        "\n",
        "svd = SVD()\n",
        "#evaluate(svd, data, measures=['RMSE', 'MAE'])\n",
        "# cross-validation with no. of kfold=5 (can be changed per your need)\n",
        "cross_validate(svd, data, measures=['rmse', 'mae'], cv=5)"
      ],
      "execution_count": 30,
      "outputs": [
        {
          "output_type": "execute_result",
          "data": {
            "text/plain": [
              "{'fit_time': (6.094820022583008,\n",
              "  5.2332398891448975,\n",
              "  5.357941150665283,\n",
              "  5.317015647888184,\n",
              "  5.341284275054932),\n",
              " 'test_mae': array([0.77010575, 0.77868092, 0.76605991, 0.7649699 , 0.76691578]),\n",
              " 'test_rmse': array([0.97543814, 0.97806251, 0.97144113, 0.97354654, 0.98170987]),\n",
              " 'test_time': (0.15038752555847168,\n",
              "  0.146193265914917,\n",
              "  0.15297293663024902,\n",
              "  0.15464091300964355,\n",
              "  0.9468948841094971)}"
            ]
          },
          "metadata": {},
          "execution_count": 30
        }
      ]
    },
    {
      "metadata": {
        "_cell_guid": "c02b147f-b163-4a67-897e-881fbe2d69cd",
        "_uuid": "9c519e55ef4ae222556048f22bb55e4c8885d864",
        "id": "sxhz7aqm-_ZU"
      },
      "cell_type": "markdown",
      "source": [
        "Below is what user 783514 liked in the past:"
      ]
    },
    {
      "metadata": {
        "_cell_guid": "dca8773e-5a63-4ac8-9691-77d6a50e1485",
        "_uuid": "7b832da6358dc5ad2b3c4c2a60e73cacdfe0fe75",
        "trusted": true,
        "id": "lAMntPnk-_ZV",
        "colab": {
          "base_uri": "https://localhost:8080/"
        },
        "outputId": "4e697aeb-eaa0-4782-a3e1-4ce1471a2b5e"
      },
      "cell_type": "code",
      "source": [
        "df_785314 = df[(df['Cust_Id'] == 785314) & (df['Rating'] == 5)]\n",
        "df_785314 = df_785314.set_index('Movie_Id')\n",
        "df_785314 = df_785314.join(df_title)['Name']\n",
        "print(df_785314)\n"
      ],
      "execution_count": 31,
      "outputs": [
        {
          "output_type": "stream",
          "name": "stdout",
          "text": [
            "Movie_Id\n",
            "229        Peter Gabriel: Growing Up Live\n",
            "365                      R.E.M.: Tourfilm\n",
            "383                              Hit Team\n",
            "385                    The Santa Clause 2\n",
            "842                    Reap the Wild Wind\n",
            "852                    Disorganized Crime\n",
            "961                 Love in the Afternoon\n",
            "1039                            Lawn Dogs\n",
            "1606                    Til There Was You\n",
            "1959                Splendor in the Grass\n",
            "2054                          Nick Knight\n",
            "2176                  VeggieTales: Esther\n",
            "2396    Starship Troopers: Bonus Material\n",
            "2414                         Naked States\n",
            "Name: Name, dtype: object\n"
          ]
        }
      ]
    },
    {
      "metadata": {
        "_cell_guid": "fac49661-d5d9-4d1d-a3f5-110220f18b89",
        "_uuid": "c18f9856722f273498b9192e2b722077b9d86962",
        "id": "3dRdO6Rl-_ZV"
      },
      "cell_type": "markdown",
      "source": [
        "Let's predict which movies user 785314 would love to watch:"
      ]
    },
    {
      "metadata": {
        "_cell_guid": "7da1d4f5-ef96-4f33-96ae-a66028f8926d",
        "_uuid": "6f47935958ad57c568fa58253a83452abe83fbed",
        "trusted": true,
        "id": "KFkar7ft-_ZV",
        "colab": {
          "base_uri": "https://localhost:8080/"
        },
        "outputId": "dd23081c-ed22-47db-9750-1c05379c6c63"
      },
      "cell_type": "code",
      "source": [
        "user_785314 = df_title.copy()\n",
        "user_785314 = user_785314.reset_index()\n",
        "user_785314 = user_785314[~user_785314['Movie_Id'].isin(drop_movie_list)]\n",
        "\n",
        "# getting full dataset\n",
        "data = Dataset.load_from_df(df[['Cust_Id', 'Movie_Id', 'Rating']], reader)\n",
        "\n",
        "trainset = data.build_full_trainset()\n",
        "svd.fit(trainset)\n",
        "\n",
        "user_785314['Estimate_Score'] = user_785314['Movie_Id'].apply(lambda x: svd.predict(785314, x).est)\n",
        "\n",
        "user_785314 = user_785314.drop('Movie_Id', axis = 1)\n",
        "\n",
        "user_785314 = user_785314.sort_values('Estimate_Score', ascending=False)\n",
        "print(user_785314.head(10))"
      ],
      "execution_count": 33,
      "outputs": [
        {
          "output_type": "stream",
          "name": "stdout",
          "text": [
            "        Year                                        Name  Estimate_Score\n",
            "1848  2002.0  Michael Colyar: The Michael Colyar Project        4.653157\n",
            "841   1942.0                          Reap the Wild Wind        4.604858\n",
            "294   1995.0              Ace Ventura: When Nature Calls        4.414367\n",
            "2167  1998.0          Upright Citizens Brigade: Season 1        4.409173\n",
            "624   1999.0                    Underground Comedy Movie        4.367827\n",
            "1488  2002.0                              American Adobo        4.341215\n",
            "2155  2003.0                                 Naked World        4.340932\n",
            "1823  1980.0                      Sun Ra: A Joyful Noise        4.328513\n",
            "775   1953.0                           Dr. Seuss's The 5        4.314692\n",
            "1678  2000.0             The Clash: Westway to the World        4.265417\n"
          ]
        }
      ]
    },
    {
      "metadata": {
        "_cell_guid": "25d88f52-36a2-4c62-bdc5-fee174b1aab7",
        "_uuid": "f24caa335865e13f5e0feb47bfb0b47996c69570",
        "id": "ySks3sUm-_ZV"
      },
      "cell_type": "markdown",
      "source": [
        "## Recommend with Pearsons' R correlations"
      ]
    },
    {
      "metadata": {
        "_cell_guid": "d1220239-a049-4543-9ab6-89e1d00d6cdd",
        "_uuid": "4d4082f49c67f7406af44d9125ddab4c16ca967e",
        "id": "F-Dj_L5C-_ZV"
      },
      "cell_type": "markdown",
      "source": [
        "The way it works is we use Pearsons' R correlation to measure the linear correlation between review scores of all pairs of movies, then we provide the top 10 movies with highest correlations:"
      ]
    },
    {
      "metadata": {
        "collapsed": true,
        "_cell_guid": "200cf4e8-59d6-459d-a0e5-5c9452bc8ad0",
        "_uuid": "531e21998a34956e35f3e0a839e18d528faa6709",
        "trusted": true,
        "id": "lSEU4BLd-_ZV"
      },
      "cell_type": "code",
      "source": [
        "def recommend(movie_title, min_count):\n",
        "    print(\"For movie ({})\".format(movie_title))\n",
        "    print(\"- Top 10 movies recommended based on Pearsons'R correlation - \")\n",
        "    i = int(df_title.index[df_title['Name'] == movie_title][0])\n",
        "    target = df_p[i]\n",
        "    similar_to_target = df_p.corrwith(target)\n",
        "    corr_target = pd.DataFrame(similar_to_target, columns = ['PearsonR'])\n",
        "    corr_target.dropna(inplace = True)\n",
        "    corr_target = corr_target.sort_values('PearsonR', ascending = False)\n",
        "    corr_target.index = corr_target.index.map(int)\n",
        "    corr_target = corr_target.join(df_title).join(df_movie_summary)[['PearsonR', 'Name', 'count', 'mean']]\n",
        "    print(corr_target[corr_target['count']>min_count][:10].to_string(index=False))"
      ],
      "execution_count": 34,
      "outputs": []
    },
    {
      "metadata": {
        "_cell_guid": "c06b5afa-cf47-4853-a712-ee0afe60b994",
        "_uuid": "e7b9374a3c6bcd9d890f1a1462d6d4f2cb55dad5",
        "id": "ts4LMyl_-_ZV"
      },
      "cell_type": "markdown",
      "source": [
        "A recommendation for you if you like 'What the #$*! Do We Know!?'"
      ]
    },
    {
      "metadata": {
        "_cell_guid": "9691bc55-4bde-4580-ae43-f9698e46ab81",
        "_uuid": "903cb1f6529d9d93deb557b5ac7eeba4b42d8a53",
        "trusted": true,
        "id": "UguiFVN5-_ZV",
        "colab": {
          "base_uri": "https://localhost:8080/"
        },
        "outputId": "188f57f1-2b86-428d-bf6d-17aeed3fd6f9"
      },
      "cell_type": "code",
      "source": [
        "recommend(\"What the #$*! Do We Know!?\", 0)"
      ],
      "execution_count": 35,
      "outputs": [
        {
          "output_type": "stream",
          "name": "stdout",
          "text": [
            "For movie (What the #$*! Do We Know!?)\n",
            "- Top 10 movies recommended based on Pearsons'R correlation - \n",
            " PearsonR                                          Name  count     mean\n",
            " 1.000000                    What the #$*! Do We Know!?  14910 3.189805\n",
            " 0.325237 George Carlin: What Am I Doing in New Jersey?   4532 3.669903\n",
            " 0.322733                                         Fangs   4175 4.111377\n",
            " 0.322397                                         Congo   4373 4.160759\n",
            " 0.322397                  Dragon Ball: Tournament Saga   4373 4.160759\n",
            " 0.308771                                          Fall   4261 3.102793\n",
            " 0.293812                                 Star Ocean EX   8978 4.247494\n",
            " 0.291029                                 U.S. Marshals   4785 3.743783\n",
            " 0.288206                           Mujhse Dosti Karoge   6674 4.189542\n",
            " 0.284727        John Carpenter: The Man and His Movies   4524 3.539125\n"
          ]
        }
      ]
    },
    {
      "metadata": {
        "_cell_guid": "c4f1cfbe-0c57-46b5-97d4-1f9466862802",
        "_uuid": "3646da79d856c2895001832bedb3bf5236a84166",
        "id": "ZVynHLu--_ZW"
      },
      "cell_type": "markdown",
      "source": [
        "\"\"U.S. Marshals\""
      ]
    },
    {
      "metadata": {
        "_cell_guid": "9fc24be5-1037-4208-b1ca-07e2e9f8c4a7",
        "_uuid": "8586765d4b658bea95997f4418b7ae14c2c6be3d",
        "trusted": true,
        "id": "AjcaUyFo-_ZW",
        "colab": {
          "base_uri": "https://localhost:8080/"
        },
        "outputId": "8e1c1d62-d420-411a-ec7f-b50f40e6d2a4"
      },
      "cell_type": "code",
      "source": [
        "recommend(\"U.S. Marshals\", 0)"
      ],
      "execution_count": 37,
      "outputs": [
        {
          "output_type": "stream",
          "name": "stdout",
          "text": [
            "For movie (U.S. Marshals)\n",
            "- Top 10 movies recommended based on Pearsons'R correlation - \n",
            " PearsonR                         Name  count     mean\n",
            " 1.000000                U.S. Marshals   4785 3.743783\n",
            " 0.483875                    Yugpurush   5098 4.029619\n",
            " 0.457764            The Horror Within   3867 3.754590\n",
            " 0.436803                          Gas   5781 3.692441\n",
            " 0.410630                        Congo   4373 4.160759\n",
            " 0.410630 Dragon Ball: Tournament Saga   4373 4.160759\n",
            " 0.404394           For Your Eyes Only   7840 3.498469\n",
            " 0.396166                        Dogma  10603 3.633406\n",
            " 0.392587                Pete's Meteor   6434 3.133665\n",
            " 0.385690 The King of Queens: Season 2   4639 3.805130\n"
          ]
        }
      ]
    },
    {
      "metadata": {
        "_cell_guid": "e9ba141d-cec5-4104-935e-f0492ce099df",
        "_uuid": "08abd9eabd6c0999751f5cab879e9976517e61d8",
        "id": "yNHZIH1p-_ZW"
      },
      "cell_type": "markdown",
      "source": [
        "Hope it is a good read. I will keep updating this Kernel (more models etc). Welcome any suggestions!\n"
      ]
    }
  ],
  "metadata": {
    "kernelspec": {
      "display_name": "Python 3",
      "language": "python",
      "name": "python3"
    },
    "language_info": {
      "name": "python",
      "version": "3.6.4",
      "mimetype": "text/x-python",
      "codemirror_mode": {
        "name": "ipython",
        "version": 3
      },
      "pygments_lexer": "ipython3",
      "nbconvert_exporter": "python",
      "file_extension": ".py"
    },
    "colab": {
      "name": "netflix-recommendation.ipynb",
      "provenance": []
    }
  },
  "nbformat": 4,
  "nbformat_minor": 0
}